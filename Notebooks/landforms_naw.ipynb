{
 "cells": [
  {
   "cell_type": "markdown",
   "id": "074fb702-ded6-41f0-b94d-fe70c1291a05",
   "metadata": {},
   "source": [
    "# Hammond Landforms: Neighborhood Analysis Window"
   ]
  },
  {
   "cell_type": "code",
   "execution_count": null,
   "id": "b96d1ec4-8b2c-4c7a-83b0-0e3678048e04",
   "metadata": {},
   "outputs": [],
   "source": [
    "# builtins\n",
    "import pathlib\n",
    "\n",
    "# externals\n",
    "import numpy as np\n",
    "import pandas as pd\n",
    "import seaborn as sns\n",
    "import matplotlib.pyplot as plt\n",
    "import matplotlib.patches as mpatches\n",
    "\n",
    "# locals\n",
    "from pysegcnn.core.utils import img2np\n",
    "from ai4ebv.core.landforms import HAMMOND_LANDFORM_CLASSES, SAYRE_LANDFORM_CLASSES, SayreLandforms"
   ]
  },
  {
   "cell_type": "code",
   "execution_count": null,
   "id": "1bfe722b-832c-4d95-8825-f84dae4c4607",
   "metadata": {},
   "outputs": [],
   "source": [
    "# neighborhood analysis window sizes in km\n",
    "NAW_SIZES = [1, 2]"
   ]
  },
  {
   "cell_type": "code",
   "execution_count": null,
   "id": "8e83c520-7bb2-40d4-bfef-2cf6adec1eb3",
   "metadata": {},
   "outputs": [],
   "source": [
    "# path to Hammond landform layers\n",
    "PATH_LAYERS = pathlib.Path('/mnt/CEPH_PROJECTS/AI4EBV/LANDFORMS/Python/')"
   ]
  },
  {
   "cell_type": "code",
   "execution_count": null,
   "id": "8b727da4-d68a-435a-8582-183a73b763f6",
   "metadata": {},
   "outputs": [],
   "source": [
    "# list of possible slope, relief, and profile combinations\n",
    "POSSIBLE_COMBINATIONS = [s + r + p for s in [100, 200, 300, 400] for r in [10, 20, 30, 40, 50, 60] for p in [0, 1, 2, 3, 4]]"
   ]
  },
  {
   "cell_type": "code",
   "execution_count": null,
   "id": "ee411c42-6511-4d3d-a620-bddc5252b293",
   "metadata": {},
   "outputs": [],
   "source": [
    "def class_distribution(array, class_scheme, no_data=9999, freq=True):\n",
    "    # compute class distribution\n",
    "    classes, counts = np.unique(array, return_counts=True)\n",
    "    \n",
    "    # remove NoData class\n",
    "    mask = classes != no_data\n",
    "    classes = classes[mask]\n",
    "    counts = counts[mask]\n",
    "    counts = counts / counts.sum() if freq else counts  # whether to convert count to frequency\n",
    "    \n",
    "    # get classes which are defined\n",
    "    defined = np.isin(classes, class_scheme)\n",
    "    color = np.where(defined, 'g', 'r')\n",
    "    \n",
    "    # create DataFrame for plotting purpose\n",
    "    class_dist = pd.DataFrame(np.array([classes, counts]).transpose(), columns=['class', 'count'])\n",
    "    class_dist['color'] = color\n",
    "    \n",
    "    # fill not defined/computed classes\n",
    "    if class_scheme is HAMMOND_LANDFORM_CLASSES:\n",
    "        for c in POSSIBLE_COMBINATIONS:\n",
    "            if c not in class_dist['class'].values:\n",
    "                class_dist = class_dist.append(pd.DataFrame([[c, 0, 'r']], columns=['class', 'count', 'color']))\n",
    "            \n",
    "    # remove impossible combinations\n",
    "    for idx, row in class_dist.iterrows():\n",
    "        if class_scheme is HAMMOND_LANDFORM_CLASSES:\n",
    "            if row['class'] not in POSSIBLE_COMBINATIONS:\n",
    "                class_dist = class_dist.drop(idx)\n",
    "            \n",
    "    # sort by class id\n",
    "    class_dist = class_dist.sort_values('class')\n",
    "    \n",
    "    return class_dist"
   ]
  },
  {
   "cell_type": "markdown",
   "id": "f7976356-262e-42c2-9450-96e51260bc25",
   "metadata": {},
   "source": [
    "## Load Hammond landform layers"
   ]
  },
  {
   "cell_type": "code",
   "execution_count": null,
   "id": "5637b96c-a32e-4009-8b48-44a23d89f21e",
   "metadata": {},
   "outputs": [],
   "source": [
    "# load Hammond landform layers generated with different NAW sizes\n",
    "hlf = {naw: img2np(PATH_LAYERS.joinpath('naw-{:d}-km/SRTM_alps_030m_03035_HLF_naw-{:d}km.tif'\n",
    "                                        .format(naw, naw))) for naw in NAW_SIZES}"
   ]
  },
  {
   "cell_type": "code",
   "execution_count": null,
   "id": "201876e5-5876-44d7-8090-5fb2828a1a2b",
   "metadata": {},
   "outputs": [],
   "source": [
    "# load WTE landform layers generated with different NAW sizes\n",
    "wte = {naw: img2np(PATH_LAYERS.joinpath('naw-{:d}-km/SRTM_alps_030m_03035_WTE-LF_naw-{:d}km.tif'\n",
    "                                        .format(naw, naw))) for naw in NAW_SIZES}"
   ]
  },
  {
   "cell_type": "markdown",
   "id": "894fe546-5879-4621-a974-a9cb15812cb4",
   "metadata": {},
   "source": [
    "## Class distributions"
   ]
  },
  {
   "cell_type": "code",
   "execution_count": null,
   "id": "6439c79a-d65a-4d87-b3d3-735567b28095",
   "metadata": {},
   "outputs": [],
   "source": [
    "# compute Hammond landform classes and counts depending on NAW size\n",
    "hlf_classes = {k: class_distribution(v, HAMMOND_LANDFORM_CLASSES) for k, v in hlf.items()}"
   ]
  },
  {
   "cell_type": "code",
   "execution_count": null,
   "id": "8ee6e149-2a10-47ae-8841-190ab3e4e086",
   "metadata": {},
   "outputs": [],
   "source": [
    "# compute WTE landform classes and counts depending on NAW size\n",
    "wte_classes = {k: class_distribution(v, SAYRE_LANDFORM_CLASSES) for k, v in wte.items()}"
   ]
  },
  {
   "cell_type": "markdown",
   "id": "676cd7c8-34ea-492e-9bf3-5c36fb6236db",
   "metadata": {},
   "source": [
    "### Hammond landforms class distribution"
   ]
  },
  {
   "cell_type": "code",
   "execution_count": null,
   "id": "2e11b366-edea-442d-9c6a-6d409d6f78b3",
   "metadata": {},
   "outputs": [],
   "source": [
    "# plot class distributions\n",
    "fig, axes = plt.subplots(len(NAW_SIZES), 1, figsize=(24, int(5 * len(NAW_SIZES))), sharex=True)\n",
    "axes = axes.flatten()\n",
    "\n",
    "# iterate over NAW sizes\n",
    "for naw, ax in zip(NAW_SIZES, axes):\n",
    "    # plot class distribution\n",
    "    sns.barplot(x='class', y='count', data=hlf_classes[naw], ax=ax, palette=hlf_classes[naw]['color'])\n",
    "    ax.set_ylim(0, 0.2)\n",
    "    ax.set_xlabel('')\n",
    "    ax.set_ylabel('Frequency', fontsize=18, labelpad=10)\n",
    "    ax.set_title('Circular NAW radius: {:d} km'.format(naw), fontsize=18, pad=10)\n",
    "    ax.set_xticks(np.arange(0, len(POSSIBLE_COMBINATIONS)))\n",
    "    ax.set_xticklabels(POSSIBLE_COMBINATIONS)\n",
    "    \n",
    "# axes tick parameters\n",
    "for ax in axes:\n",
    "    ax.tick_params('both', labelsize=14)\n",
    "    ax.tick_params('x', labelrotation=90)\n",
    "\n",
    "# set shared xtick labels\n",
    "axes[-1].set_xlabel('Hammond landform classes', fontsize=18, labelpad=10);\n",
    "\n",
    "# add legend\n",
    "patches = [mpatches.Patch(color=c, label='defined' if c == 'g' else 'not defined') for c in ['g', 'r']]\n",
    "axes[-1].legend(handles=patches, loc=1, frameon=False, fontsize=18);\n",
    "\n",
    "# save figure\n",
    "fig.subplots_adjust(hspace=0.15)\n",
    "fig.savefig('./Figures/HLF_class_distribution.png', dpi=300, bbox_inches='tight')"
   ]
  },
  {
   "cell_type": "markdown",
   "id": "92a787c3-b7a5-4f8e-b2ae-99f0c858b233",
   "metadata": {},
   "source": [
    "### Class distribution depending on NAW-size"
   ]
  },
  {
   "cell_type": "code",
   "execution_count": null,
   "id": "108765c6-1b4a-44b5-95a3-097f5dbf7f77",
   "metadata": {},
   "outputs": [],
   "source": [
    "for k, v in hlf_classes.items():\n",
    "    v['naw'] = k\n",
    "hlf_classes = pd.concat(hlf_classes.values(), ignore_index=True)"
   ]
  },
  {
   "cell_type": "code",
   "execution_count": null,
   "id": "679c6bef-2bbe-4af1-8bd6-0500a8e34c3f",
   "metadata": {},
   "outputs": [],
   "source": [
    "for k, v in wte_classes.items():\n",
    "    v['naw'] = k\n",
    "wte_classes = pd.concat(wte_classes.values(), ignore_index=True)"
   ]
  },
  {
   "cell_type": "code",
   "execution_count": null,
   "id": "601844b8-aa5d-4e6d-8767-8adf99d5416f",
   "metadata": {},
   "outputs": [],
   "source": [
    "# plot class distributions\n",
    "fig, ax = plt.subplots(1, 1, figsize=(24, 5))\n",
    "\n",
    "# plot class distribution\n",
    "sns.barplot(x='class', y='count', hue='naw', data=hlf_classes, ax=ax, palette=sns.color_palette('mako', 2))\n",
    "ax.set_ylim(0, 0.2)\n",
    "ax.set_xlabel('')\n",
    "ax.set_ylabel('Frequency', fontsize=18, labelpad=10)\n",
    "ax.set_xticks(np.arange(0, len(POSSIBLE_COMBINATIONS)))\n",
    "ax.set_xticklabels(POSSIBLE_COMBINATIONS)\n",
    "    \n",
    "# axes tick parameters\n",
    "ax.tick_params('both', labelsize=14)\n",
    "ax.tick_params('x', labelrotation=90)\n",
    "\n",
    "# add legend\n",
    "h, _ = ax.get_legend_handles_labels()\n",
    "ax.get_legend().remove()\n",
    "ax.legend(h, ['NAW: {:d}km'.format(naw) for naw in NAW_SIZES], frameon=False, fontsize=18)\n",
    "\n",
    "# set shared xtick labels\n",
    "ax.set_xlabel('Hammond landform classes', fontsize=18, labelpad=10);\n",
    "fig.savefig('./Figures/HLF_class_distribution_naw.png', dpi=300, bbox_inches='tight')"
   ]
  },
  {
   "cell_type": "code",
   "execution_count": null,
   "id": "091ae010-8ebb-4950-9000-2b5098122c88",
   "metadata": {},
   "outputs": [],
   "source": [
    "# plot class distributions\n",
    "fig, ax = plt.subplots(1, 1, figsize=(24, 5))\n",
    "\n",
    "# plot class distribution\n",
    "sns.barplot(x='class', y='count', hue='naw', data=wte_classes, ax=ax, palette=sns.color_palette('mako', 2))\n",
    "ax.set_ylim(0, 0.5)\n",
    "ax.set_xlabel('')\n",
    "ax.set_ylabel('Frequency', fontsize=18, labelpad=10)\n",
    "ax.set_xticks(np.arange(0, len(SAYRE_LANDFORM_CLASSES)))\n",
    "ax.set_xticklabels([SayreLandforms.label_dict()[k]['label'] for k in SAYRE_LANDFORM_CLASSES])\n",
    "    \n",
    "# axes tick parameters\n",
    "ax.tick_params('both', labelsize=14)\n",
    "ax.tick_params('x', labelrotation=90)\n",
    "\n",
    "# add legend\n",
    "h, _ = ax.get_legend_handles_labels()\n",
    "ax.get_legend().remove()\n",
    "ax.legend(h, ['NAW: {:d}km'.format(naw) for naw in NAW_SIZES], frameon=False, fontsize=18)\n",
    "\n",
    "# set shared xtick labels\n",
    "ax.set_xlabel('WTE landform classes', fontsize=18, labelpad=10);\n",
    "fig.savefig('./Figures/WTE_class_distribution.png', dpi=300, bbox_inches='tight')"
   ]
  }
 ],
 "metadata": {
  "kernelspec": {
   "display_name": "Python 3 (ipykernel)",
   "language": "python",
   "name": "python3"
  },
  "language_info": {
   "codemirror_mode": {
    "name": "ipython",
    "version": 3
   },
   "file_extension": ".py",
   "mimetype": "text/x-python",
   "name": "python",
   "nbconvert_exporter": "python",
   "pygments_lexer": "ipython3",
   "version": "3.7.12"
  }
 },
 "nbformat": 4,
 "nbformat_minor": 5
}
