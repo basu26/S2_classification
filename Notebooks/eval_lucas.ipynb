{
 "cells": [
  {
   "cell_type": "code",
   "execution_count": null,
   "id": "12675c62-bc01-4f09-bea7-c3d3dddecf5d",
   "metadata": {},
   "outputs": [],
   "source": [
    "# builtins\n",
    "import sys\n",
    "import pathlib\n",
    "\n",
    "# externals\n",
    "import numpy as np\n",
    "import xarray as xr\n",
    "import pandas as pd\n",
    "import seaborn as sns\n",
    "import matplotlib.pyplot as plt\n",
    "from sklearn.metrics import confusion_matrix\n",
    "\n",
    "# locals\n",
    "from pysegcnn.core.utils import (img2np, extract_by_points, np2tif, array_replace, search_files)\n",
    "from pysegcnn.core.graphics import (plot_confusion_matrix, plot_classification_report)\n",
    "from ai4ebv.core.landcover import WteLandCover, LC_LOOKUPS\n",
    "from ai4ebv.core.metrics import area_adjusted_classification_report"
   ]
  },
  {
   "cell_type": "code",
   "execution_count": null,
   "id": "46c22b59-3f66-4fc1-8b9f-5f3f7ad59602",
   "metadata": {},
   "outputs": [],
   "source": [
    "# class labels: drop the NoData class\n",
    "LABELS = WteLandCover.label_dict()\n",
    "LABELS.pop(WteLandCover.NoData.id)\n",
    "\n",
    "# class names\n",
    "CLASS_LABELS = [v['label'] for v in LABELS.values()]"
   ]
  },
  {
   "cell_type": "code",
   "execution_count": null,
   "id": "e5dea543-a7e3-4341-987f-0a26929db011",
   "metadata": {},
   "outputs": [],
   "source": [
    "# path to LUCAS survey dataset\n",
    "LUCAS = pathlib.Path('/mnt/CEPH_PROJECTS/AI4EBV/INPUTS/LANDCOVER/LUCAS/lucas_points_WTE_AC.nc')"
   ]
  },
  {
   "cell_type": "code",
   "execution_count": null,
   "id": "770fdf15-59ba-4c84-ac44-e2e9fcc50afb",
   "metadata": {},
   "outputs": [],
   "source": [
    "# helper function\n",
    "def eval_lucas(layer, lucas):\n",
    "    # read LUCAS dataset\n",
    "    LUCAS = xr.open_dataset(lucas).load()\n",
    "\n",
    "    # extract LUCAS points within layer\n",
    "    points, rows, cols = extract_by_points(layer, LUCAS.lon.values, LUCAS.lat.values)\n",
    "\n",
    "    # get the indices of the Lucas records within the layer\n",
    "    indices = []\n",
    "    for point in points:\n",
    "        indices.append(np.where((LUCAS.lon.values == point[0]) &\n",
    "                                (LUCAS.lat.values == point[1]))[0].item())\n",
    "        y_true = LUCAS.LCWTE_Letter.sel(record=indices).values.astype(str)\n",
    "        \n",
    "    # read input land cover product\n",
    "    y_p = img2np(layer)\n",
    "    \n",
    "    # subset model predictions to LUCAS points\n",
    "    y_pred = y_p[rows, cols]\n",
    "\n",
    "    # replace missing values\n",
    "    y_true[np.where(y_true == 'NA')] = WteLandCover.NoData.id\n",
    "    y_true[np.where(y_true == '')] = WteLandCover.NoData.id\n",
    "\n",
    "    # convert to integer\n",
    "    y_true = y_true.astype(np.int16)\n",
    "\n",
    "    # check where both the reference layer and the Lucas dataset are defined\n",
    "    defined = ((y_true != WteLandCover.NoData.id) &\n",
    "               (y_pred != WteLandCover.NoData.id))\n",
    "\n",
    "    # exclude NoData values from the evaluation\n",
    "    y_pred = y_pred[defined]\n",
    "    y_true = y_true[defined]\n",
    "    \n",
    "    return y_true, y_pred"
   ]
  },
  {
   "cell_type": "code",
   "execution_count": null,
   "id": "f79bf060-a1cf-4fb3-af90-f976ca3c43d0",
   "metadata": {},
   "outputs": [],
   "source": [
    "# define custom color palette\n",
    "colors = sns.color_palette([[c / 255 for c in label.color] for label in WteLandCover if label != WteLandCover.NoData])\n",
    "sns.palplot(colors)"
   ]
  },
  {
   "cell_type": "markdown",
   "id": "410fea6f-8ab0-44be-b5c3-e793f3371b4a",
   "metadata": {},
   "source": [
    "## Evaluate existing land cover products"
   ]
  },
  {
   "cell_type": "code",
   "execution_count": null,
   "id": "a25124ea-b01c-41f6-8970-3e00f00252f6",
   "metadata": {},
   "outputs": [],
   "source": [
    "# path to existing land cover products\n",
    "lc_product = 'ESACCI'\n",
    "if lc_product == 'ESACCI':\n",
    "    layer = pathlib.Path('/mnt/CEPH_PROJECTS/AI4EBV/INPUTS/LANDCOVER/ESACCILC/ESACCI-LC-L4-LCCS-Map-300m-P1Y-2015-v2.0.7_clip.tif')\n",
    "    year = 2015\n",
    "else:\n",
    "    layer = pathlib.Path('/mnt/CEPH_PROJECTS/AI4EBV/INPUTS/LANDCOVER/CORINE/CORINE_2018_ALPS_clip.tif')\n",
    "    year = 2018"
   ]
  },
  {
   "cell_type": "code",
   "execution_count": null,
   "id": "7a5d37d8-81dd-4efa-9b04-59738511757b",
   "metadata": {},
   "outputs": [],
   "source": [
    "# extract LUCAS pixels\n",
    "y_true, y_pred = eval_lucas(layer, LUCAS)"
   ]
  },
  {
   "cell_type": "code",
   "execution_count": null,
   "id": "3125354f-9323-493d-b020-d882546948cb",
   "metadata": {},
   "outputs": [],
   "source": [
    "# calculate metrics\n",
    "y_p = array_replace(img2np(layer), LC_LOOKUPS[lc_product].to_numpy())\n",
    "y_pred = array_replace(y_pred, LC_LOOKUPS[lc_product].to_numpy())\n",
    "report = area_adjusted_classification_report(y_true, y_pred, y_p, labels=list(LABELS.keys()), target_names=CLASS_LABELS)"
   ]
  },
  {
   "cell_type": "code",
   "execution_count": null,
   "id": "8726a112-6e24-4320-82ba-fa6358d5ed63",
   "metadata": {},
   "outputs": [],
   "source": [
    "# create dataframe of class-wise metrics over time\n",
    "df = pd.DataFrame()\n",
    "for idx, row in report.iterrows():\n",
    "    if row.name in CLASS_LABELS:\n",
    "        df = df.append({**{k: v for k, v in zip(row.index, row)}, 'year': str(year), 'label': row.name}, ignore_index=True)\n",
    "\n",
    "# convert area to percent\n",
    "df['area'] *= 100\n",
    "df"
   ]
  },
  {
   "cell_type": "code",
   "execution_count": null,
   "id": "ef9ab87b-b3bb-433b-9bc6-87b06ad75ce2",
   "metadata": {},
   "outputs": [],
   "source": [
    "fig, axes = plt.subplots(1, 2, figsize=(10, 6))\n",
    "# sns.barplot(x='year', y='precision', hue='label', data=df, palette=colors, ax=axes[0]);\n",
    "# sns.barplot(x='year', y='recall', hue='label', data=df, palette=colors, ax=axes[1]);\n",
    "sns.barplot(x='year', y='f1-score', hue='label', data=df, palette=colors, ax=axes[0]);\n",
    "sns.barplot(x='year', y='area', hue='label', data=df, palette=colors, ax=axes[-1]);\n",
    "\n",
    "# axes properties\n",
    "for ax in axes:\n",
    "    ax.set_ylabel('')\n",
    "    ax.set_yticks(np.arange(0, 1.2, 0.2))\n",
    "    ax.set_xlabel('')\n",
    "    ax.set_xticks([])\n",
    "axes[-1].set_yticks(np.arange(0, 60, 10))\n",
    "axes[-1].yaxis.tick_right()\n",
    "#axes[0].set_title('Precision')\n",
    "#axes[1].set_title('Recall')\n",
    "axes[0].set_title('F$_1$-score')\n",
    "axes[-1].set_title('Area (%)')\n",
    "\n",
    "# adjust legend\n",
    "for ax in axes:\n",
    "    h, _ = ax.get_legend_handles_labels()\n",
    "    ax.get_legend().remove()\n",
    "axes[-1].legend(h, ['{} ({:0d})'.format(l, int(n)) for l, n in df.groupby('label', sort=False).support.mean().iteritems()],\n",
    "               loc='lower left', ncol=1, bbox_to_anchor=(1.15, 0.21), frameon=False)\n",
    "\n",
    "# adjust subplots and save figure\n",
    "fig.subplots_adjust(wspace=0.15)\n",
    "fig.savefig('./Figures/lucas_class-wise_metrics_{}.png'.format(lc_product), dpi=300, bbox_inches='tight')"
   ]
  },
  {
   "cell_type": "markdown",
   "id": "e1229ee4-f15d-4ec9-a677-4b8e534a6d04",
   "metadata": {},
   "source": [
    "## Evaluate downscaled land cover layers"
   ]
  },
  {
   "cell_type": "code",
   "execution_count": null,
   "id": "c06bd296-b0ed-44f4-b426-bbdb1abb6815",
   "metadata": {},
   "outputs": [],
   "source": [
    "# path to search for classifications\n",
    "MOSAIC_PATH = pathlib.Path('/mnt/CEPH_PROJECTS/AI4EBV/DELIVERABLES/')\n",
    "YEARS = np.arange(2015, 2021)"
   ]
  },
  {
   "cell_type": "code",
   "execution_count": null,
   "id": "97bcefac-57c9-4214-a7af-68e5b6c50d4e",
   "metadata": {},
   "outputs": [],
   "source": [
    "# classification parameters\n",
    "classifier = 'RandomForestClassifier'\n",
    "mode = 'single'\n",
    "features = 'FT'\n",
    "months = '3456789'\n",
    "labels = 'CORINE'\n",
    "indices = 'IND'\n",
    "ftmode = 'ANN'\n",
    "dem = 'DEM'\n",
    "n = 5000\n",
    "\n",
    "# search files matching this pattern\n",
    "pattern = '_'.join(['^{}'.format(classifier), mode, features, '({})'.format('|'.join([str(y) for y in YEARS])),\n",
    "                    'M{}'.format(months), labels])\n",
    "pattern = '_'.join([pattern, indices]) if indices else pattern\n",
    "pattern = '_'.join([pattern, ftmode])\n",
    "pattern = '_'.join([pattern, dem]) if dem else pattern\n",
    "pattern = '_'.join([pattern, 'N{}'.format(n)]) + '_wte.tif$'\n",
    "pattern"
   ]
  },
  {
   "cell_type": "code",
   "execution_count": null,
   "id": "2cfe8dbe-5bdc-4997-99e4-257f592057b2",
   "metadata": {},
   "outputs": [],
   "source": [
    "# search layers matching classification pattern\n",
    "layers = sorted(search_files(MOSAIC_PATH, pattern))\n",
    "layers"
   ]
  },
  {
   "cell_type": "code",
   "execution_count": null,
   "id": "338fc8d4-478d-41b3-8125-dbb984d4b111",
   "metadata": {},
   "outputs": [],
   "source": [
    "# evaluate metrics for each reference year\n",
    "metrics = {}\n",
    "for y, layer in zip(YEARS, layers):\n",
    "    # extract LUCAS survey pixels\n",
    "    y_true, y_pred = eval_lucas(layer, LUCAS)\n",
    "    \n",
    "    # calculate metrics\n",
    "    y_p = img2np(layer)\n",
    "    report = area_adjusted_classification_report(y_true, y_pred, y_p, labels=list(LABELS.keys()), target_names=CLASS_LABELS)\n",
    "    metrics[y] = report"
   ]
  },
  {
   "cell_type": "code",
   "execution_count": null,
   "id": "02d1de6f-6feb-4318-bbce-cda94ae200d1",
   "metadata": {},
   "outputs": [],
   "source": [
    "# plot overall accuracy for each year\n",
    "accuracies = np.asarray([np.unique(df.loc['accuracy'].loc['f1-score']) for df in metrics.values()]).squeeze()\n",
    "fig, ax = plt.subplots(1, 1, figsize=(16, 9))\n",
    "sns.barplot(x=YEARS, y=accuracies * 100, color='grey', ax=ax)\n",
    "ax.set_ylim(0, 100)\n",
    "ax.set_yticks(np.arange(0, 110, 10))\n",
    "ax.set_ylabel('Overall accuracy (%)')\n",
    "ax.set_xlabel('Reference year', labelpad=20)\n",
    "#ax.set_xticklabels(YEARS, rotation=45);\n",
    "#ax.set_title('Mean accuracy: {:.0f}%'.format(accuracies.mean() * 100));\n",
    "\n",
    "# save figure\n",
    "fig.savefig('./Figures/lucas_oa.png', dpi=300, bbox_inches='tight')"
   ]
  },
  {
   "cell_type": "code",
   "execution_count": null,
   "id": "c1744fcf-fe66-4ed0-bf05-e959f8301bfb",
   "metadata": {},
   "outputs": [],
   "source": [
    "# create dataframe of class-wise metrics over time\n",
    "df = pd.DataFrame()\n",
    "for k, v in metrics.items():\n",
    "    # metrics for each year of current class\n",
    "    for idx, row in v.iterrows():\n",
    "        if row.name in CLASS_LABELS:\n",
    "            df = df.append({**{k: v for k, v in zip(row.index, row)}, 'year': str(k), 'label': row.name}, ignore_index=True)\n",
    "\n",
    "# convert area to percent\n",
    "df['area'] *= 100\n",
    "df"
   ]
  },
  {
   "cell_type": "code",
   "execution_count": null,
   "id": "ba9122de-abb1-450e-b985-6406ed0ff709",
   "metadata": {},
   "outputs": [],
   "source": [
    "fig, axes = plt.subplots(4, 1, figsize=(16, 16), sharex=True)\n",
    "sns.barplot(x='year', y='precision', hue='label', data=df, palette=colors, ax=axes[0]);\n",
    "sns.barplot(x='year', y='recall', hue='label', data=df, palette=colors, ax=axes[1]);\n",
    "sns.barplot(x='year', y='f1-score', hue='label', data=df, palette=colors, ax=axes[2]);\n",
    "sns.barplot(x='year', y='area', hue='label', data=df, palette=colors, ax=axes[3]);\n",
    "\n",
    "# axes properties\n",
    "for ax in axes[:-1]:\n",
    "    ax.set_xlabel('')\n",
    "    ax.set_yticks(np.arange(0, 1.2, 0.2))\n",
    "axes[0].set_ylabel('Precision')\n",
    "axes[1].set_ylabel('Recall')\n",
    "axes[2].set_ylabel('F$_1$-score')\n",
    "\n",
    "axes[-1].set_ylim(0, 50);\n",
    "axes[-1].set_yticks(np.arange(0, 60, 10))\n",
    "axes[-1].set_ylabel('Area (%)');\n",
    "axes[-1].set_xlabel('Reference year', labelpad=20)\n",
    "axes[-1].set_xticklabels(YEARS);\n",
    "\n",
    "# adjust legend\n",
    "for ax in axes:\n",
    "    h, _ = ax.get_legend_handles_labels()\n",
    "    ax.get_legend().remove()\n",
    "axes[-1].legend(h, ['{} ({:0d})'.format(l, int(n)) for l, n in df.groupby('label', sort=False).support.mean().iteritems()],\n",
    "               loc='lower left', ncol=4, bbox_to_anchor=(-0.15, -0.85), frameon=False)\n",
    "\n",
    "# adjust subplots and save figure\n",
    "fig.subplots_adjust(hspace=0.15)\n",
    "fig.savefig('./Figures/lucas_class-wise_metrics.png', dpi=300, bbox_inches='tight')"
   ]
  },
  {
   "cell_type": "code",
   "execution_count": null,
   "id": "fb306716-d489-44e2-99b1-ee6c1b841b4b",
   "metadata": {},
   "outputs": [],
   "source": [
    "fig, axes = plt.subplots(1, 4, figsize=(16, 16), sharey=True)\n",
    "sns.barplot(y='year', x='precision', hue='label', data=df, palette=colors, ax=axes[0]);\n",
    "sns.barplot(y='year', x='recall', hue='label', data=df, palette=colors, ax=axes[1]);\n",
    "sns.barplot(y='year', x='f1-score', hue='label', data=df, palette=colors, ax=axes[2]);\n",
    "sns.barplot(y='year', x='area', hue='label', data=df, palette=colors, ax=axes[3]);\n",
    "\n",
    "# axes properties\n",
    "for ax in axes[:-1]:\n",
    "    ax.set_ylabel('')\n",
    "    ax.set_xticks(np.arange(0, 1.2, 0.2))\n",
    "axes[0].set_xlabel('Precision')\n",
    "axes[1].set_xlabel('Recall')\n",
    "axes[2].set_xlabel('F$_1$-score')\n",
    "\n",
    "axes[-1].set_xlim(0, 50);\n",
    "axes[-1].set_xticks(np.arange(0, 60, 10))\n",
    "axes[-1].set_xlabel('Area (%)');\n",
    "axes[-1].set_ylabel('')\n",
    "axes[0].set_ylabel('Reference year', labelpad=20);\n",
    "\n",
    "# adjust legend\n",
    "for ax in axes:\n",
    "    h, _ = ax.get_legend_handles_labels()\n",
    "    ax.get_legend().remove()\n",
    "axes[0].legend(h, ['{} ({:0d})'.format(l, int(n)) for l, n in df.groupby('label', sort=False).support.mean().iteritems()],\n",
    "               loc='lower left', ncol=4, bbox_to_anchor=(-0.5, -0.2), frameon=False)\n",
    "\n",
    "# adjust subplots and save figure\n",
    "fig.subplots_adjust(wspace=0.15)\n",
    "fig.savefig('./Figures/lucas_class-wise_metrics_h.png', dpi=300, bbox_inches='tight')"
   ]
  }
 ],
 "metadata": {
  "kernelspec": {
   "display_name": "Python 3",
   "language": "python",
   "name": "python3"
  },
  "language_info": {
   "codemirror_mode": {
    "name": "ipython",
    "version": 3
   },
   "file_extension": ".py",
   "mimetype": "text/x-python",
   "name": "python",
   "nbconvert_exporter": "python",
   "pygments_lexer": "ipython3",
   "version": "3.7.9"
  }
 },
 "nbformat": 4,
 "nbformat_minor": 5
}
