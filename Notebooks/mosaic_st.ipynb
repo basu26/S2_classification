{
 "cells": [
  {
   "cell_type": "markdown",
   "id": "8d189d88-31bd-41e6-9380-178382d75c2f",
   "metadata": {},
   "source": [
    "## Mosaic of the province of South-Tyrol"
   ]
  },
  {
   "cell_type": "code",
   "execution_count": null,
   "id": "8c55b701-b112-4fee-99dd-71c2cb069a2e",
   "metadata": {},
   "outputs": [],
   "source": [
    "# builtins\n",
    "import os\n",
    "import pathlib\n",
    "\n",
    "# externals\n",
    "from osgeo import gdal\n",
    "\n",
    "# locals\n",
    "from ai4ebv.core.constants import STT_TILES\n",
    "from ai4ebv.core.utils import mosaic_tiles\n",
    "from pysegcnn.core.utils import hdf2tifs, extract_by_mask"
   ]
  },
  {
   "cell_type": "code",
   "execution_count": null,
   "id": "5e11380e-9348-40fe-9b62-cd59c0c7566c",
   "metadata": {},
   "outputs": [],
   "source": [
    "# path to the HLS dataset\n",
    "HLS_PATH = pathlib.Path('/mnt/CEPH_PROJECTS/AI4EBV/EO/HLS/')"
   ]
  },
  {
   "cell_type": "code",
   "execution_count": null,
   "id": "f28c7c8f-a3d4-45bc-a8da-94dd8550d825",
   "metadata": {},
   "outputs": [],
   "source": [
    "# reference year\n",
    "YEAR = 2018"
   ]
  },
  {
   "cell_type": "code",
   "execution_count": null,
   "id": "7a1f3d3e-e4ac-4453-b4de-80ce80e1d77c",
   "metadata": {},
   "outputs": [],
   "source": [
    "# define sensor\n",
    "SENSOR = 'S30'"
   ]
  },
  {
   "cell_type": "code",
   "execution_count": null,
   "id": "16064c59-3150-466e-845d-23d62fe7948c",
   "metadata": {},
   "outputs": [],
   "source": [
    "# shapefile defining province of South-Tyrol\n",
    "ST = pathlib.Path('/mnt/CEPH_PROJECTS/AI4EBV/BOUNDARIES/ST.shp')"
   ]
  },
  {
   "cell_type": "markdown",
   "id": "da5f9d8d-0114-432f-a77b-9a1509ac1cb7",
   "metadata": {},
   "source": [
    "### Find scenes with least cloud cover"
   ]
  },
  {
   "cell_type": "code",
   "execution_count": null,
   "id": "19f6086b-8359-4af4-ba11-53b2790d4c25",
   "metadata": {},
   "outputs": [],
   "source": [
    "scenes = {}\n",
    "for tile in STT_TILES:\n",
    "    scenes[tile] = {}\n",
    "    for dirpath, dirname, files in os.walk(HLS_PATH.joinpath(tile, str(YEAR), SENSOR)):\n",
    "        if files:\n",
    "            files = sorted(files)\n",
    "            for file in files:\n",
    "                if file.endswith('hdf'):\n",
    "                    path = os.sep.join([dirpath, file])\n",
    "                    metadata = gdal.Info(path, format='json')['metadata']['']\n",
    "                    cc = metadata.get('cloud_coverage')\n",
    "                    sc = metadata.get('spatial_coverage')\n",
    "                    if int(sc) == 100:\n",
    "                        scenes[tile][path] = int(cc) if cc is not None else None\n",
    "                        print(path, sc, cc)"
   ]
  },
  {
   "cell_type": "code",
   "execution_count": null,
   "id": "83e6019c-5af1-4cfe-acce-6169626cb136",
   "metadata": {},
   "outputs": [],
   "source": [
    "least_cc = {}\n",
    "for k, v in scenes.items():\n",
    "    least_cc[k] = {None: 100}\n",
    "    for path, cc in v.items():\n",
    "        least_cc[k] = {path: cc} if cc < list(least_cc[k].values()).pop() else least_cc[k]"
   ]
  },
  {
   "cell_type": "code",
   "execution_count": null,
   "id": "b384928f-e74f-470c-9e92-7467518c783b",
   "metadata": {},
   "outputs": [],
   "source": [
    "least_cc"
   ]
  },
  {
   "cell_type": "code",
   "execution_count": null,
   "id": "b26aaac2-c54d-434e-890f-d10e9c32273f",
   "metadata": {},
   "outputs": [],
   "source": [
    "# convert hdf2tif\n",
    "for tile in STT_TILES:\n",
    "    hdf = pathlib.Path(list(least_cc[tile].keys()).pop())\n",
    "    hdf2tifs(hdf, './', create_stack=False)"
   ]
  },
  {
   "cell_type": "code",
   "execution_count": null,
   "id": "b37d42f5-6180-4802-80de-0a54cda7b60c",
   "metadata": {},
   "outputs": [],
   "source": [
    "# select a band\n",
    "band = 'b02' if SENSOR == 'S30' else 'band02' \n",
    "tiles = []\n",
    "for dirpath in pathlib.Path('./').iterdir():\n",
    "    if dirpath.is_dir() and dirpath.name.startswith('HLS'):\n",
    "        file = pathlib.Path('./').joinpath(dirpath, '_'.join([dirpath.name.replace('_', '.'), band]) + '.tif')\n",
    "        tiles.append(file)\n",
    "tiles"
   ]
  },
  {
   "cell_type": "code",
   "execution_count": null,
   "id": "72a24d91-b85c-49f6-ba78-4eaace915e1a",
   "metadata": {},
   "outputs": [],
   "source": [
    "# create mosaic\n",
    "mosaic = mosaic_tiles(tiles, targets='./Mosaic.tif')"
   ]
  },
  {
   "cell_type": "code",
   "execution_count": null,
   "id": "b0def511-f651-469c-808d-21fba07dbfee",
   "metadata": {},
   "outputs": [],
   "source": [
    "# clip to province of South-Tyrol\n",
    "extract_by_mask('./Mosaic.tif', ST, './Figures/Mosaic_clip.tif', overwrite=True)"
   ]
  },
  {
   "cell_type": "code",
   "execution_count": null,
   "id": "176adc65-a634-4848-a587-209e57c43b71",
   "metadata": {},
   "outputs": [],
   "source": [
    "!rm -r ./HLS*"
   ]
  },
  {
   "cell_type": "code",
   "execution_count": null,
   "id": "0683df7e-7b2f-4715-9a98-61b8ecf2bb3f",
   "metadata": {},
   "outputs": [],
   "source": [
    "!rm ./Mosaic.tif"
   ]
  }
 ],
 "metadata": {
  "kernelspec": {
   "display_name": "Python 3",
   "language": "python",
   "name": "python3"
  },
  "language_info": {
   "codemirror_mode": {
    "name": "ipython",
    "version": 3
   },
   "file_extension": ".py",
   "mimetype": "text/x-python",
   "name": "python",
   "nbconvert_exporter": "python",
   "pygments_lexer": "ipython3",
   "version": "3.7.9"
  }
 },
 "nbformat": 4,
 "nbformat_minor": 5
}
