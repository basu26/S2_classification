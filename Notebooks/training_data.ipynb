{
 "cells": [
  {
   "cell_type": "markdown",
   "id": "fb917218-1177-4e24-80c1-3e7a8fddc27c",
   "metadata": {},
   "source": [
    "## Unsupervised training data generation"
   ]
  },
  {
   "cell_type": "code",
   "execution_count": null,
   "id": "8201fafd-f066-41d0-8eb7-d3a370b86d95",
   "metadata": {},
   "outputs": [],
   "source": [
    "# builtins\n",
    "import pathlib\n",
    "from logging.config import dictConfig\n",
    "\n",
    "# externals\n",
    "import numpy as np\n",
    "from osgeo import gdal\n",
    "import matplotlib.pyplot as plt\n",
    "import xarray as xr\n",
    "\n",
    "# locals\n",
    "from ai4ebv.core.sample import TrainingDataFactory\n",
    "from ai4ebv.core.legend import Legend\n",
    "from ai4ebv.core.dataset import HLSDataset\n",
    "from ai4ebv.core.constants import STT_TILES\n",
    "from ai4ebv.core.utils import mosaic_tiles\n",
    "from ai4ebv.main.io import *\n",
    "from pysegcnn.core.utils import img2np, np2tif\n",
    "from pysegcnn.core.logging import log_conf"
   ]
  },
  {
   "cell_type": "code",
   "execution_count": null,
   "id": "d7965195-f39a-4b8b-93e1-63b299bb8394",
   "metadata": {},
   "outputs": [],
   "source": [
    "dictConfig(log_conf())"
   ]
  },
  {
   "cell_type": "markdown",
   "id": "0643a446-3261-4704-95f5-643e15474ff4",
   "metadata": {},
   "source": [
    "### Removal of boundary pixels"
   ]
  },
  {
   "cell_type": "code",
   "execution_count": null,
   "id": "43152b16-13ee-4789-bf0a-8f7db4600704",
   "metadata": {},
   "outputs": [],
   "source": [
    "layer = pathlib.Path('/mnt/CEPH_PROJECTS/AI4EBV/DISSEMINATION/ESA-Phi-week-2021/Landcover/CORINE/Mosaic.tif')"
   ]
  },
  {
   "cell_type": "code",
   "execution_count": null,
   "id": "9f8a45d9-66f3-44b1-a773-c16198ec2bea",
   "metadata": {},
   "outputs": [],
   "source": [
    "# original land cover mask\n",
    "lc = img2np(layer)\n",
    "np2tif(lc, filename='./Figures/no_erosion.tif', no_data=Legend.NoData.id, src_ds=gdal.Open(str(layer)), overwrite=True)"
   ]
  },
  {
   "cell_type": "code",
   "execution_count": null,
   "id": "b76fbeb9-55db-4a01-81e5-868b8ee372c6",
   "metadata": {},
   "outputs": [],
   "source": [
    "# eroded land cover mask\n",
    "lc_eroded = np.ones(lc.shape, dtype=np.int16) * Legend.NoData.id\n",
    "for label in Legend:\n",
    "    lc_eroded[TrainingDataFactory.is_homogeneous(lc == label.id)] = label.id"
   ]
  },
  {
   "cell_type": "code",
   "execution_count": null,
   "id": "9a50a3a6-3062-4462-8635-4d56511ef360",
   "metadata": {
    "tags": []
   },
   "outputs": [],
   "source": [
    "# save eroded mask\n",
    "np2tif(lc_eroded, filename='./Figures/erosion.tif', no_data=Legend.NoData.id, src_ds=gdal.Open(str(layer)), overwrite=True)"
   ]
  },
  {
   "cell_type": "markdown",
   "id": "3feeb38b-a47f-4cae-b78f-b2a14b5d59ab",
   "metadata": {},
   "source": [
    "### Spectral filter"
   ]
  },
  {
   "cell_type": "code",
   "execution_count": null,
   "id": "0f506a12-c34a-4bf9-833d-0dc348e9c39c",
   "metadata": {},
   "outputs": [],
   "source": [
    "for tile in STT_TILES:\n",
    "    # instanciate the HLS-dataset\n",
    "    hls = HLSDataset.initialize(HLS_PATH, tile, 2018, months=[3,4,5,6,7,8,9])\n",
    "    \n",
    "    # load time series\n",
    "    hls_ts = hls.to_xarray(spatial_coverage=80, cloud_coverage=50, save=False)\n",
    "    \n",
    "    # instanciate training data factory\n",
    "    factory = TrainingDataFactory(hls_ts, CLC_LAYERS[tile], 'CORINE')\n",
    "    \n",
    "    # save filtered pixels\n",
    "    np2tif(factory.samples, filename='./Figures/samples_{}.tif'.format(tile), no_data=Legend.NoData.id,\n",
    "           src_ds=gdal.Open(str(CLC_LAYERS[tile])), overwrite=True)"
   ]
  },
  {
   "cell_type": "code",
   "execution_count": null,
   "id": "b78d72c4-b0ce-454b-9e32-c88819a27c31",
   "metadata": {},
   "outputs": [],
   "source": [
    "# mosaic filtered pixels\n",
    "mosaic = mosaic_tiles([pathlib.Path('./Figures/samples_{}.tif'.format(tile)) for tile in STT_TILES], targets='./Figures/samples.tif', no_data=Legend.NoData.id)"
   ]
  }
 ],
 "metadata": {
  "kernelspec": {
   "display_name": "Python 3",
   "language": "python",
   "name": "python3"
  },
  "language_info": {
   "codemirror_mode": {
    "name": "ipython",
    "version": 3
   },
   "file_extension": ".py",
   "mimetype": "text/x-python",
   "name": "python",
   "nbconvert_exporter": "python",
   "pygments_lexer": "ipython3",
   "version": "3.7.9"
  }
 },
 "nbformat": 4,
 "nbformat_minor": 5
}
